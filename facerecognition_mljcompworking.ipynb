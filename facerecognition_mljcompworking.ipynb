{
 "cells": [
  {
   "cell_type": "code",
   "execution_count": 7,
   "id": "d44f7830",
   "metadata": {},
   "outputs": [],
   "source": [
    "import cv2\n",
    "from simple_facerec import SimpleFacerec"
   ]
  },
  {
   "cell_type": "code",
   "execution_count": 8,
   "id": "99a8616c",
   "metadata": {},
   "outputs": [
    {
     "name": "stdout",
     "output_type": "stream",
     "text": [
      "7 encoding images found.\n",
      "Encoding images loaded\n"
     ]
    }
   ],
   "source": [
    "#train faces from folder\n",
    "facerec = SimpleFacerec()\n",
    "facerec.load_encoding_images(\"images/\")"
   ]
  },
  {
   "cell_type": "code",
   "execution_count": 9,
   "id": "057361f6",
   "metadata": {},
   "outputs": [],
   "source": [
    "#web cam\n",
    "cap = cv2.VideoCapture(0)\n",
    "while True:\n",
    "    ret, frame = cap.read()\n",
    "    faceloc,facename = facerec.detect_known_faces(frame)\n",
    "    for i,j in zip(faceloc, facename):\n",
    "\n",
    "        y1,x2,y2,x1 = i[0],i[1],i[2],i[3] \n",
    "        frame = cv2.rectangle(frame,(x1,y1),(x2,y2),(0,255,0),2)\n",
    "        frame = cv2.rectangle(frame,(x1,y2-35),(x2,y2),(0,255,0),cv2.FILLED)\n",
    "        frame = cv2.putText(frame,j,(x1+6,y2-6),cv2.FONT_HERSHEY_COMPLEX,1,(255,255,255),2)\n",
    "    cv2.imshow(\"WEBCAM\", frame)\n",
    "    key = cv2.waitKey(1)\n",
    "    if key ==27:\n",
    "        break\n",
    "cap.release()\n",
    "cv2.destroyAllWindows()"
   ]
  },
  {
   "cell_type": "code",
   "execution_count": null,
   "id": "7dddda83",
   "metadata": {},
   "outputs": [],
   "source": []
  }
 ],
 "metadata": {
  "kernelspec": {
   "display_name": "Python 3 (ipykernel)",
   "language": "python",
   "name": "python3"
  },
  "language_info": {
   "codemirror_mode": {
    "name": "ipython",
    "version": 3
   },
   "file_extension": ".py",
   "mimetype": "text/x-python",
   "name": "python",
   "nbconvert_exporter": "python",
   "pygments_lexer": "ipython3",
   "version": "3.7.13"
  }
 },
 "nbformat": 4,
 "nbformat_minor": 5
}
